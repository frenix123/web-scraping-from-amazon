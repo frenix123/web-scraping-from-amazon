{
 "cells": [
  {
   "cell_type": "code",
   "execution_count": null,
   "metadata": {},
   "outputs": [],
   "source": [
    "\n",
    "\n",
    "import pandas as pd\n",
    "from bs4 import BeautifulSoup as bs4\n",
    "import requests\n",
    "import re\n",
    "from urllib.request import urlopen\n",
    "\n",
    "for i in range(231,250):\n",
    "    def soup(url):\n",
    "        html=urlopen(url)\n",
    "        soupdata=bs4(html,'html.parser')\n",
    "        return soupdata\n",
    "\n",
    "    bs=soup('https://www.flipkart.com/search?q=smart+phones&sid=tyy%2C4io&as=on&as-show=on&otracker=AS_QueryStore_OrganicAutoSuggest_1_5&otracker1=AS_QueryStore_OrganicAutoSuggest_1_5&as-pos=1&as-type=RECENT&as-backfill=on&page='+str(i))\n",
    "\n",
    "    name = bs.findAll('a',{'class':'_31qSD5'})\n",
    "\n",
    "    with open('C:/Users/Jessy/Downloads/smartphones1.csv','a',encoding='utf-8') as t:\n",
    "        for i in name:\n",
    "            #names=i.h2.text\n",
    "            if i.find('div',class_='_3wU53n')!=None:\n",
    "                names=i.find('div',class_='_3wU53n').text\n",
    "            if i.find('div',class_='_1vC4OE _2rQ-NK')!=None:\n",
    "                cost=i.find('div',class_='_1vC4OE _2rQ-NK').text.replace('₹','')\n",
    "            if i.find('div',{'class':'hGSR34'})!=None:\n",
    "                rating=i.find('div',{'class':'hGSR34'}).text\n",
    "            t.write(names.replace(',','')+','+cost.replace(',','').strip()+','+rating+'\\n')\n",
    "           # print(names+','+cost+','+rating,'\\n')\n",
    "\n"
   ]
  }
 ],
 "metadata": {
  "kernelspec": {
   "display_name": "Python 3",
   "language": "python",
   "name": "python3"
  },
  "language_info": {
   "codemirror_mode": {
    "name": "ipython",
    "version": 3
   },
   "file_extension": ".py",
   "mimetype": "text/x-python",
   "name": "python",
   "nbconvert_exporter": "python",
   "pygments_lexer": "ipython3",
   "version": "3.6.8"
  }
 },
 "nbformat": 4,
 "nbformat_minor": 2
}
