{
 "cells": [
  {
   "cell_type": "code",
   "execution_count": null,
   "metadata": {},
   "outputs": [],
   "source": [
    "\n",
    "\n",
    "import pandas as pd\n",
    "from bs4 import BeautifulSoup as bs4\n",
    "import requests\n",
    "import re\n",
    "from urllib.request import urlopen\n",
    "\n",
    "for i in range(23,24):\n",
    "    def soup(url):\n",
    "        html=urlopen(url)\n",
    "        soupdata=bs4(html,'html.parser')\n",
    "        return soupdata\n",
    "\n",
    "    bs=soup('https://www.amazon.in//Smartphones-Basic-Mobiles/s?ie=UTF8&page='+str(i)+'&rh=n%3A1805560031')\n",
    "\n",
    "    name = bs.findAll('div',{'class':'s-item-container'})\n",
    "\n",
    "\n",
    "    with open('C:/Users/Jessy/Downloads/zzzz.csv','a',encoding='utf-8') as t:\n",
    "        for i in name:\n",
    "            #names=i.h2.text\n",
    "            if i.find('h2')!=None:\n",
    "                names=i.find('h2').text\n",
    "            if i.find('span',class_='a-size-base a-color-price s-price a-text-bold')!=None:\n",
    "                cost=i.find('span',class_='a-size-base a-color-price s-price a-text-bold').text.strip()\n",
    "            if i.find('span',{'class':'a-icon-alt'})!=None:\n",
    "                rating1=i.find('span',{'class':'a-icon-alt'}).text #.re.findall(r'\\d\\.\\d{0,2}',i.find('span',{'class':'a-icon-alt'}))\n",
    "            rating2=re.findall(r'\\d\\.\\d{0,2}',rating1)\n",
    "            rating3=str(rating2)\n",
    "            rating4=rating3.replace('\\'','')\n",
    "            rating5=rating4.replace(']','')\n",
    "            rating=rating5.replace('[','')\n",
    "            #if rating1!=None:\n",
    "             #   rating2=re.findall(r'\\d\\.\\d{0,2}',rating1) \n",
    "              #  rating=str(rating2)\n",
    "            #print(names+','+cost+','+rating,'\\n')\n",
    "            t.write(names.replace(',','')+','+cost.replace(',','')+','+rating+'\\n')\n",
    "            #print(names+','+cost+','+rating,'\\n')\n",
    "\n"
   ]
  }
 ],
 "metadata": {
  "kernelspec": {
   "display_name": "Python 3",
   "language": "python",
   "name": "python3"
  },
  "language_info": {
   "codemirror_mode": {
    "name": "ipython",
    "version": 3
   },
   "file_extension": ".py",
   "mimetype": "text/x-python",
   "name": "python",
   "nbconvert_exporter": "python",
   "pygments_lexer": "ipython3",
   "version": "3.6.8"
  }
 },
 "nbformat": 4,
 "nbformat_minor": 2
}
